{
 "cells": [
  {
   "cell_type": "code",
   "execution_count": 1,
   "id": "initial_id",
   "metadata": {
    "collapsed": true,
    "ExecuteTime": {
     "end_time": "2024-02-08T18:28:36.461825400Z",
     "start_time": "2024-02-08T18:28:30.620868600Z"
    }
   },
   "outputs": [],
   "source": [
    "import mindsdb_sdk\n",
    "def run_mindsdb():\n",
    "    server = mindsdb_sdk.connect()\n",
    "    project_name = \"temp\"\n",
    "    project = server.get_project('mindsdb')\n",
    "    if project_name is not None:\n",
    "        project.query(f\"CREATE PROJECT {project_name};\")\n",
    "    result = project.query(f\"CREATE MODEL {project_name}.home_rentals_model4 FROM example_db (SELECT * FROM demo_data.home_rentals) PREDICT rental_price;\").fetch().to_dict(orient='records')\n",
    "    return result"
   ]
  },
  {
   "cell_type": "code",
   "outputs": [
    {
     "data": {
      "text/plain": "[{'NAME': 'home_rentals_model4',\n  'ENGINE': 'lightwood',\n  'PROJECT': 'temp',\n  'ACTIVE': True,\n  'VERSION': 1,\n  'STATUS': 'generating',\n  'ACCURACY': None,\n  'PREDICT': 'rental_price',\n  'UPDATE_STATUS': 'up_to_date',\n  'MINDSDB_VERSION': '24.1.4.0',\n  'ERROR': None,\n  'SELECT_DATA_QUERY': 'SELECT * FROM demo_data.home_rentals',\n  'TRAINING_OPTIONS': \"{'__mdb_sql_task': None, 'target': 'rental_price'}\",\n  'TAG': None}]"
     },
     "execution_count": 2,
     "metadata": {},
     "output_type": "execute_result"
    }
   ],
   "source": [
    "run_mindsdb()"
   ],
   "metadata": {
    "collapsed": false,
    "ExecuteTime": {
     "end_time": "2024-02-08T18:28:43.951315700Z",
     "start_time": "2024-02-08T18:28:36.459833800Z"
    }
   },
   "id": "64b517f7e268347",
   "execution_count": 2
  },
  {
   "cell_type": "code",
   "outputs": [],
   "source": [],
   "metadata": {
    "collapsed": false
   },
   "id": "e073faffd9c574d0"
  }
 ],
 "metadata": {
  "kernelspec": {
   "display_name": "Python 3",
   "language": "python",
   "name": "python3"
  },
  "language_info": {
   "codemirror_mode": {
    "name": "ipython",
    "version": 2
   },
   "file_extension": ".py",
   "mimetype": "text/x-python",
   "name": "python",
   "nbconvert_exporter": "python",
   "pygments_lexer": "ipython2",
   "version": "2.7.6"
  }
 },
 "nbformat": 4,
 "nbformat_minor": 5
}
